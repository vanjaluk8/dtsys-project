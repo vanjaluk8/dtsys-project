{
 "cells": [
  {
   "cell_type": "markdown",
   "source": [
    "## This simple example shows how simple data was pulled from a database that is exposed via fast api"
   ],
   "metadata": {
    "collapsed": false
   },
   "id": "212ab5353a3b1195"
  },
  {
   "cell_type": "code",
   "execution_count": 26,
   "outputs": [],
   "source": [
    "import requests\n",
    "import pandas as pd\n",
    "\n",
    "# Define the URL of the JSON endpoint\n",
    "url = \"http://0.0.0.0:8000/query-city.json\"  # Replace with the actual URL\n",
    "\n",
    "try:\n",
    "    # Send an HTTP GET request to the URL\n",
    "    response = requests.get(url)\n",
    "    response.raise_for_status()  # Check for any HTTP request errors\n",
    "\n",
    "    # Parse the JSON data from the response\n",
    "    json_data = response.json()\n",
    "    \n",
    "    # Create a Pandas DataFrame from the JSON data\n",
    "    df = pd.DataFrame(json_data)\n",
    "\n",
    "except requests.exceptions.RequestException as e:\n",
    "    print(f\"Error: {e}\")\n",
    "\n",
    "except Exception as e:\n",
    "    print(f\"An error occurred: {e}\")"
   ],
   "metadata": {
    "collapsed": false,
    "ExecuteTime": {
     "start_time": "2023-11-01T10:45:02.088458023Z"
    }
   },
   "id": "initial_id"
  },
  {
   "cell_type": "code",
   "execution_count": null,
   "outputs": [],
   "source": [
    "# Print the whole dataframe\n",
    "df"
   ],
   "metadata": {
    "collapsed": false
   },
   "id": "bf7857c2722aa222"
  },
  {
   "cell_type": "code",
   "execution_count": 24,
   "outputs": [
    {
     "name": "stdout",
     "output_type": "stream",
     "text": [
      "Values for CountryCode=              Name CountryCode       District  Population\n",
      "4        Amsterdam         NLD  Noord-Holland      731200\n",
      "5        Rotterdam         NLD   Zuid-Holland      593321\n",
      "6             Haag         NLD   Zuid-Holland      440900\n",
      "7          Utrecht         NLD        Utrecht      234323\n",
      "8        Eindhoven         NLD  Noord-Brabant      201843\n",
      "9          Tilburg         NLD  Noord-Brabant      193238\n",
      "10       Groningen         NLD      Groningen      172701\n",
      "11           Breda         NLD  Noord-Brabant      160398\n",
      "12       Apeldoorn         NLD     Gelderland      153491\n",
      "13        Nijmegen         NLD     Gelderland      152463\n",
      "14        Enschede         NLD     Overijssel      149544\n",
      "15         Haarlem         NLD  Noord-Holland      148772\n",
      "16          Almere         NLD      Flevoland      142465\n",
      "17          Arnhem         NLD     Gelderland      138020\n",
      "18        Zaanstad         NLD  Noord-Holland      135621\n",
      "19   Hertogenbosch         NLD  Noord-Brabant      129170\n",
      "20      Amersfoort         NLD        Utrecht      126270\n",
      "21      Maastricht         NLD        Limburg      122087\n",
      "22       Dordrecht         NLD   Zuid-Holland      119811\n",
      "23          Leiden         NLD   Zuid-Holland      117196\n",
      "24  Haarlemmermeer         NLD  Noord-Holland      110722\n",
      "25      Zoetermeer         NLD   Zuid-Holland      110214\n",
      "26           Emmen         NLD        Drenthe      105853\n",
      "27          Zwolle         NLD     Overijssel      105819\n",
      "28             Ede         NLD     Gelderland      101574\n",
      "29           Delft         NLD   Zuid-Holland       95268\n",
      "30         Heerlen         NLD        Limburg       95052\n",
      "31         Alkmaar         NLD  Noord-Holland       92713:\n",
      "              Name  Population       District\n",
      "4        Amsterdam      731200  Noord-Holland\n",
      "5        Rotterdam      593321   Zuid-Holland\n",
      "6             Haag      440900   Zuid-Holland\n",
      "7          Utrecht      234323        Utrecht\n",
      "8        Eindhoven      201843  Noord-Brabant\n",
      "9          Tilburg      193238  Noord-Brabant\n",
      "10       Groningen      172701      Groningen\n",
      "11           Breda      160398  Noord-Brabant\n",
      "12       Apeldoorn      153491     Gelderland\n",
      "13        Nijmegen      152463     Gelderland\n",
      "14        Enschede      149544     Overijssel\n",
      "15         Haarlem      148772  Noord-Holland\n",
      "16          Almere      142465      Flevoland\n",
      "17          Arnhem      138020     Gelderland\n",
      "18        Zaanstad      135621  Noord-Holland\n",
      "19   Hertogenbosch      129170  Noord-Brabant\n",
      "20      Amersfoort      126270        Utrecht\n",
      "21      Maastricht      122087        Limburg\n",
      "22       Dordrecht      119811   Zuid-Holland\n",
      "23          Leiden      117196   Zuid-Holland\n",
      "24  Haarlemmermeer      110722  Noord-Holland\n",
      "25      Zoetermeer      110214   Zuid-Holland\n",
      "26           Emmen      105853        Drenthe\n",
      "27          Zwolle      105819     Overijssel\n",
      "28             Ede      101574     Gelderland\n",
      "29           Delft       95268   Zuid-Holland\n",
      "30         Heerlen       95052        Limburg\n",
      "31         Alkmaar       92713  Noord-Holland\n"
     ]
    }
   ],
   "source": [
    "# Filter the DataFrame to include only rows with 'CountryCode' equal to 'HRV'\n",
    "cc_df = df[df['CountryCode'] == 'NLD']\n",
    "\n",
    "# Calculate the sum of the 'Population' column for the filtered DataFrame\n",
    "total_population_cc_df = cc_df['Population'].sum()\n",
    "\n",
    "# List all values from the 'Name' and 'Population' columns\n",
    "cc_df_values = cc_df[['Name', 'Population', 'District']]\n",
    "\n",
    "# Print the values for 'Name' and 'Population' where 'CountryCode' is 'HRV'\n",
    "print(f'Values for CountryCode={cc_df}:')\n",
    "print(f'{cc_df_values}\\n')\n",
    "\n",
    "# Print the total sum of 'Population' for 'CountryCode' 'HRV'\n",
    "#print(f\"Total Population for CountryCode={cc_df}: {total_population_cc_df}\")"
   ],
   "metadata": {
    "collapsed": false,
    "ExecuteTime": {
     "end_time": "2023-11-01T10:43:08.516086117Z",
     "start_time": "2023-11-01T10:43:08.512780619Z"
    }
   },
   "id": "fc35e31c0c37fe81"
  },
  {
   "cell_type": "code",
   "execution_count": 25,
   "outputs": [
    {
     "data": {
      "text/plain": "<Figure size 640x480 with 1 Axes>",
      "image/png": "[encoded data removed]"
     },
     "metadata": {},
     "output_type": "display_data"
    }
   ],
   "source": [
    "import matplotlib.pyplot as plt\n",
    "\n",
    "# Filter the DataFrame to include only rows with 'CountryCode' equal to 'HRV'\n",
    "hrv_df = df[df['CountryCode'] == 'HRV']\n",
    "\n",
    "# Create a bar plot\n",
    "plt.bar(hrv_df['Name'], hrv_df['Population'])\n",
    "plt.xlabel('City Name')\n",
    "plt.ylabel('Population')\n",
    "plt.title('Population for CountryCode=HRV')\n",
    "plt.xticks(rotation=45, ha='right')  # Rotate x-axis labels for readability\n",
    "plt.show()"
   ],
   "metadata": {
    "collapsed": false,
    "ExecuteTime": {
     "end_time": "2023-11-01T10:44:40.695878677Z",
     "start_time": "2023-11-01T10:44:39.906837452Z"
    }
   },
   "id": "9285efc07aadf96c"
  },
  {
   "cell_type": "code",
   "execution_count": null,
   "outputs": [],
   "source": [],
   "metadata": {
    "collapsed": false
   },
   "id": "ab73864dd7a3a1a5"
  }
 ],
 "metadata": {
  "kernelspec": {
   "display_name": "Python 3",
   "language": "python",
   "name": "python3"
  },
  "language_info": {
   "codemirror_mode": {
    "name": "ipython",
    "version": 2
   },
   "file_extension": ".py",
   "mimetype": "text/x-python",
   "name": "python",
   "nbconvert_exporter": "python",
   "pygments_lexer": "ipython2",
   "version": "2.7.6"
  }
 },
 "nbformat": 4,
 "nbformat_minor": 5
}
